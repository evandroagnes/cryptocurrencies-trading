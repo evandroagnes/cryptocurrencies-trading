{
 "cells": [
  {
   "attachments": {},
   "cell_type": "markdown",
   "metadata": {},
   "source": [
    "## Helpful code to analize crypto"
   ]
  },
  {
   "attachments": {},
   "cell_type": "markdown",
   "metadata": {},
   "source": [
    "### Analize the result of paired trading\n",
    "\n",
    "In this scenario the pair will maintain a balance between value and quote value according with the weight. The rebalance will occur in each candle, so attention on the interval that was chosen in get_data function.\n",
    "\n",
    "#### Example:\n",
    "\n",
    "For the pair BTCUSDT (value = BTC, quote_value = USDT);\n",
    "\n",
    "Total value for the analysis: $ 50000.00;\n",
    "\n",
    "Weight: 2;\n",
    "\n",
    "\n",
    "For each candle, the total value will be divided by the weight, and the rebalance will be perfomed. Is limit_quote_value is setted to True, the rebalance only occurs when the new quote value is greater then the past quote value."
   ]
  },
  {
   "cell_type": "code",
   "execution_count": null,
   "metadata": {},
   "outputs": [],
   "source": [
    "import pandas as pd\n",
    "import numpy as np\n",
    "from binance_utils import init\n",
    "from trade_utils import get_data\n",
    "\n",
    "total_value = 50000.00\n",
    "weight = 2\n",
    "# limit_quote_value\n",
    "# True: only rebalance is new quote_value is greater than previous.\n",
    "# False: always rebalance \n",
    "limit_quote_loss = False\n",
    "\n",
    "client_live = init()\n",
    "data = get_data(client_live, 'BTCBRL', '1M', save=False)\n",
    "data = data['2021-09-09':]\n",
    "data.reset_index(inplace=True)\n",
    "data['result'] = 0.0\n",
    "data['value'] = 0.0\n",
    "data['quoteValue'] = 0.0\n",
    "data['benchmark'] = 0.0\n",
    "\n",
    "initial_quote_value = total_value / weight\n",
    "initial_value = initial_quote_value / data.iloc[0]['ClosePrice']\n",
    "benchmark_value = total_value / data.iloc[0]['ClosePrice']\n",
    "\n",
    "for i in range(len(data)):\n",
    "    if i == 0:\n",
    "        data.loc[i, ['result']] = initial_quote_value * weight\n",
    "    else:\n",
    "        data.loc[i, ['result']] = (data.iloc[i - 1]['value'] * data.iloc[i]['ClosePrice']) + data.iloc[i - 1]['quoteValue']\n",
    "    \n",
    "    quote_value = data.iloc[i]['result'] / weight\n",
    "    if (quote_value < data.iloc[i - 1]['quoteValue'] and limit_quote_loss):\n",
    "        quote_value = data.iloc[i - 1]['quoteValue']\n",
    "    \n",
    "    data.loc[i, ['quoteValue']] = quote_value\n",
    "    data.loc[i, ['value']] = (data.iloc[i]['result'] - data.iloc[i]['quoteValue']) / data.iloc[i]['ClosePrice']\n",
    "    data.loc[i, ['benchmark']] = benchmark_value * data.iloc[i]['ClosePrice']\n",
    "\n",
    "data[['OpenTime', 'ClosePrice', 'value', 'quoteValue', 'result', 'benchmark']]"
   ]
  },
  {
   "cell_type": "code",
   "execution_count": null,
   "metadata": {},
   "outputs": [],
   "source": [
    "data[data['quoteValue'].max()==data['quoteValue']]"
   ]
  },
  {
   "cell_type": "code",
   "execution_count": null,
   "metadata": {},
   "outputs": [],
   "source": [
    "data[data['value'].max()==data['value']]"
   ]
  },
  {
   "attachments": {},
   "cell_type": "markdown",
   "metadata": {},
   "source": [
    "### Get all filled trades for a specific pair."
   ]
  },
  {
   "cell_type": "code",
   "execution_count": null,
   "metadata": {},
   "outputs": [],
   "source": [
    "from binance_utils import init, get_trades\n",
    "import pandas as pd\n",
    "\n",
    "client_live = init()\n",
    "\n",
    "data = get_trades(client_live, 'FILBTC')\n",
    "data"
   ]
  },
  {
   "cell_type": "markdown",
   "metadata": {},
   "source": [
    "### Create on data frame with all coins"
   ]
  },
  {
   "cell_type": "code",
   "execution_count": null,
   "metadata": {},
   "outputs": [],
   "source": [
    "import glob\n",
    "import pandas as pd\n",
    "import re\n",
    "\n",
    "# Find all files with '*all*.parquet' in their name\n",
    "files = glob.glob('/media/evandro/Work/Workspace/data/trading/*all*.parquet')\n",
    "\n",
    "# Read each file and store its data in a dataframe with filename as the first column\n",
    "dfs = []\n",
    "for file in files:\n",
    "    pair = re.search(r'trading/(.*?)-1m', file).group(1)\n",
    "    df = pd.read_parquet(file)\n",
    "    df.reset_index(inplace=True)\n",
    "    df.insert(0, 'Pair', pair)\n",
    "    dfs.append(df)\n",
    "\n",
    "# Concatenate all dataframes into one\n",
    "all_data = pd.concat(dfs, ignore_index=True)\n",
    "all_data"
   ]
  }
 ],
 "metadata": {
  "kernelspec": {
   "display_name": ".venv",
   "language": "python",
   "name": "python3"
  },
  "language_info": {
   "codemirror_mode": {
    "name": "ipython",
    "version": 3
   },
   "file_extension": ".py",
   "mimetype": "text/x-python",
   "name": "python",
   "nbconvert_exporter": "python",
   "pygments_lexer": "ipython3",
   "version": "3.10.12"
  },
  "orig_nbformat": 4
 },
 "nbformat": 4,
 "nbformat_minor": 2
}
