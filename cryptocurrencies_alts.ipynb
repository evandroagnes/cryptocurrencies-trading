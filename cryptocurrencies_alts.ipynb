{
    "cells": [
        {
            "cell_type": "markdown",
            "metadata": {},
            "source": [
                "1 - Get 100 crypto assets with the highest marketcap\n",
                "\n",
                "2 - Get data\n",
                "\n",
                "3 - Labeling\n",
                "\n",
                "\n",
                "    "
            ]
        },
        {
            "cell_type": "code",
            "execution_count": null,
            "metadata": {},
            "outputs": [],
            "source": [
                "import pandas as pd\n",
                "import numpy as np\n",
                "import matplotlib.pyplot as plt\n",
                "import statsmodels\n",
                "from statsmodels.tsa.stattools import coint"
            ]
        },
        {
            "cell_type": "code",
            "execution_count": null,
            "metadata": {},
            "outputs": [],
            "source": [
                "# valid intervals - 1min, 3min, 5min, 15min, 30min, 1H, 2H, 4H, 6H, 8H, 12H, 1D, 3D, 1W, 1M\n",
                "interval = '1H'\n",
                "# USDT base\n",
                "#pairs = ['BTCUSDT', 'ETHUSDT','ADAUSDT','CHZUSDT','ENJUSDT','LINKUSDT','FILUSDT','XRPUSDT', 'DOTUSDT','SOLBTC']\n",
                "# BTC base\n",
                "#pairs = ['ADABTC','ENJBTC','SOLBTC', 'BNBBTC', 'CHZBTC', 'MANABTC']\n",
                "#pairs = ['ETHBTC','ADABTC','CHZBTC','ENJBTC','LINKBTC','FILBTC','XRPBTC', 'DOTBTC','SOLBTC', 'BNBBTC']\n",
                "#recomendations from Fausto Botelho in 29/07/2021 (https://www.youtube.com/channel/UCFzEG7N47dktszRxdfOHJdA)\n",
                "#pairs = ['BATBTC', 'BNBBTC', 'CHZBTC', 'ETHBTC', 'KNCBTC', 'MATICBTC', 'XEMBTC', 'ONTBTC', \n",
                "#    'CAKEBTC', 'RENBTC', 'XRPBTC', 'SOLBTC', 'STEEMBTC', 'SUSHIBTC', 'TRXBTC', 'UNIBTC']\n",
                "#pairs = ['EGLDBTC', 'FETBTC', 'SKLBTC', 'KAVABTC', 'SXPBTC']\n",
                "#DEX (Descentralized Exchange)\n",
                "#pairs = ['UNIBTC', 'SUSHIBTC', 'CAKEBTC', 'DYDXBTC']\n",
                "\n",
                "#pairs = ['SOLBTC', 'ENJBTC', 'LINKBTC', 'MATICBTC', 'UNIBTC']\n",
                "pairs = ['ATOMBTC', 'LINKBTC', 'AAVEBTC', 'VETBTC']\n",
                "\n",
                "#pairs = ['BTCUSDT', 'SHIBUSDT']\n",
                "# date to start/end analysis\n",
                "dt_start_analysis = '2021-1-1'\n",
                "# Use '' for analysis until now\n",
                "dt_end_analysis = ''"
            ]
        },
        {
            "cell_type": "code",
            "execution_count": null,
            "metadata": {},
            "outputs": [],
            "source": [
                "def normalize_data(df):\n",
                "    return df/df.iloc[0,:]"
            ]
        },
        {
            "cell_type": "code",
            "execution_count": null,
            "metadata": {},
            "outputs": [],
            "source": [
                "def find_cointegrated_pairs(data):\n",
                "    n = data.shape[1]\n",
                "    score_matrix = np.zeros((n, n))\n",
                "    pvalue_matrix = np.ones((n, n))\n",
                "    keys = data.keys()\n",
                "    selected_pairs = []\n",
                "    for i in range(n):\n",
                "        for j in range(i+1, n):\n",
                "            S1 = data[keys[i]]\n",
                "            S2 = data[keys[j]]\n",
                "            result = coint(S1, S2)\n",
                "            score = result[0]\n",
                "            pvalue = result[1]\n",
                "            score_matrix[i, j] = score\n",
                "            pvalue_matrix[i, j] = pvalue\n",
                "            if pvalue < 0.05:\n",
                "                selected_pairs.append((keys[i], keys[j]))\n",
                "    \n",
                "    return score_matrix, pvalue_matrix, selected_pairs"
            ]
        },
        {
            "cell_type": "code",
            "execution_count": null,
            "metadata": {},
            "outputs": [],
            "source": [
                "from binance_utils import init\n",
                "from trade_utils import get_data\n",
                "\n",
                "client = init()\n",
                "\n",
                "crypto_pairs_dict = {}\n",
                "crypto_df = pd.DataFrame()\n",
                "\n",
                "for pair in pairs:\n",
                "    df = get_data(client, pair, interval)\n",
                "\n",
                "    if dt_end_analysis == '' and dt_start_analysis != '':\n",
                "        df = df[dt_start_analysis:]\n",
                "    elif dt_end_analysis != '' and dt_start_analysis == '':\n",
                "        df = df[:dt_end_analysis]\n",
                "    elif dt_end_analysis != '' and dt_start_analysis != '':\n",
                "        df = df[dt_start_analysis:dt_end_analysis]\n",
                "\n",
                "    crypto_pairs_dict[pair] = df.copy()\n",
                "\n",
                "    if crypto_df.empty:\n",
                "        crypto_df = df[['ClosePrice']].copy()\n",
                "        crypto_df = crypto_df.rename(columns={'ClosePrice' : pair})\n",
                "    else: \n",
                "        crypto_df = crypto_df.join(df[['ClosePrice']].copy())\n",
                "        crypto_df = crypto_df.rename(columns={'ClosePrice' : pair})\n"
            ]
        },
        {
            "cell_type": "code",
            "execution_count": null,
            "metadata": {},
            "outputs": [],
            "source": [
                "crypto_df.head()"
            ]
        },
        {
            "cell_type": "code",
            "execution_count": null,
            "metadata": {},
            "outputs": [],
            "source": [
                "# Example\n",
                "pair = pairs[0]\n",
                "\n",
                "crypto_pairs_dict[pair].tail()"
            ]
        },
        {
            "cell_type": "code",
            "execution_count": null,
            "metadata": {},
            "outputs": [],
            "source": [
                "ax = crypto_df.plot(title='Coin Prices')\n",
                "ax.set_xlabel('Date')\n",
                "ax.set_ylabel('Price')\n",
                "plt.show()"
            ]
        },
        {
            "cell_type": "code",
            "execution_count": null,
            "metadata": {},
            "outputs": [],
            "source": [
                "ax = normalize_data(crypto_df).plot(title='Coin Prices')\n",
                "ax.set_xlabel('Date')\n",
                "ax.set_ylabel('Normalized Price')\n",
                "plt.show()"
            ]
        },
        {
            "cell_type": "code",
            "execution_count": null,
            "metadata": {},
            "outputs": [],
            "source": [
                "daily_returns = pd.DataFrame()\n",
                "\n",
                "for pair in pairs:\n",
                "    daily_returns_pair = pd.DataFrame(crypto_pairs_dict[pair]['ClosePrice'].resample('1d').ffill().pct_change())\n",
                "    daily_returns_pair = daily_returns_pair.rename(columns={'ClosePrice' : pair})\n",
                "\n",
                "    if daily_returns.empty:\n",
                "        daily_returns = daily_returns_pair.copy()\n",
                "    else:\n",
                "        daily_returns = daily_returns.join(daily_returns_pair)\n",
                "\n",
                "daily_returns.head()"
            ]
        },
        {
            "cell_type": "code",
            "execution_count": null,
            "metadata": {},
            "outputs": [],
            "source": [
                "monthly_returns = pd.DataFrame()\n",
                "\n",
                "for pair in pairs:\n",
                "    monthly_returns_pair = pd.DataFrame(crypto_pairs_dict[pair]['ClosePrice'].resample('M').ffill().pct_change())\n",
                "    monthly_returns_pair = monthly_returns_pair.rename(columns={'ClosePrice' : pair})\n",
                "\n",
                "    if monthly_returns.empty:\n",
                "        monthly_returns = monthly_returns_pair.copy()\n",
                "    else:\n",
                "        monthly_returns = monthly_returns.join(monthly_returns_pair)\n",
                "\n",
                "monthly_returns.head()"
            ]
        },
        {
            "cell_type": "code",
            "execution_count": null,
            "metadata": {},
            "outputs": [],
            "source": [
                "#plt.figure(figsize=(4, 3))\n",
                "daily_returns.plot(title='Daily returns data')\n",
                "plt.show()"
            ]
        },
        {
            "cell_type": "code",
            "execution_count": null,
            "metadata": {},
            "outputs": [],
            "source": [
                "monthly_returns.plot(title='Monthly returns data')\n",
                "plt.show()"
            ]
        },
        {
            "cell_type": "code",
            "execution_count": null,
            "metadata": {},
            "outputs": [],
            "source": [
                "daily_returns.hist(bins = 60)\n",
                "plt.show()"
            ]
        },
        {
            "cell_type": "code",
            "execution_count": null,
            "metadata": {},
            "outputs": [],
            "source": [
                "# compute daily returns in the same plot\n",
                "for pair in pairs:\n",
                "    daily_returns[pair].hist(bins=60, label=pair)\n",
                "\n",
                "plt.legend(loc='upper right')\n",
                "plt.show()"
            ]
        },
        {
            "cell_type": "code",
            "execution_count": null,
            "metadata": {},
            "outputs": [],
            "source": [
                "cum_returns = (daily_returns + 1).cumprod()"
            ]
        },
        {
            "cell_type": "code",
            "execution_count": null,
            "metadata": {},
            "outputs": [],
            "source": [
                "ax1 = (daily_returns + 1).cumprod().plot()\n",
                "ax1.set_xlabel(\"Date\")\n",
                "ax1.set_ylabel(\"Growth of $1 investment\")\n",
                "ax1.set_title(\"Daily cumulative returns data\")\n",
                "plt.show()"
            ]
        },
        {
            "cell_type": "code",
            "execution_count": null,
            "metadata": {},
            "outputs": [],
            "source": [
                "fig = plt.figure()\n",
                "ax1 = fig.add_axes([0.1,0.1,0.8,0.8])\n",
                "cum_returns = (monthly_returns + 1).cumprod()\n",
                "ax1.plot(cum_returns)\n",
                "ax1.set_xlabel(\"Date\")\n",
                "ax1.set_ylabel(\"Growth of $1 investment\")\n",
                "ax1.set_title(pair + \" Monthly cumulative returns data\")\n",
                "plt.show()"
            ]
        },
        {
            "cell_type": "code",
            "execution_count": null,
            "metadata": {},
            "outputs": [],
            "source": [
                "ax1 = (monthly_returns + 1).cumprod().plot()\n",
                "ax1.set_xlabel(\"Date\")\n",
                "ax1.set_ylabel(\"Growth of $1 investment\")\n",
                "ax1.set_title(\"Monthly cumulative returns data\")\n",
                "plt.show()"
            ]
        },
        {
            "cell_type": "code",
            "execution_count": null,
            "metadata": {},
            "outputs": [],
            "source": [
                "print(monthly_returns.mean())"
            ]
        },
        {
            "cell_type": "code",
            "execution_count": null,
            "metadata": {},
            "outputs": [],
            "source": [
                "print(monthly_returns.std())"
            ]
        },
        {
            "cell_type": "code",
            "execution_count": null,
            "metadata": {},
            "outputs": [],
            "source": [
                "print(monthly_returns.corr())"
            ]
        },
        {
            "cell_type": "code",
            "execution_count": null,
            "metadata": {},
            "outputs": [],
            "source": [
                "print(monthly_returns.cov())"
            ]
        },
        {
            "cell_type": "code",
            "execution_count": null,
            "metadata": {},
            "outputs": [],
            "source": [
                "import seaborn\n",
                "\n",
                "# Heatmap to show the p-values of the cointegration test\n",
                "# between each pair of stocks\n",
                "scores, pvalues, selected_pairs = find_cointegrated_pairs(crypto_df)\n",
                "m = [0,0.2,0.4,0.6,0.8,1]\n",
                "seaborn.heatmap(pvalues, xticklabels=pairs, \n",
                "                yticklabels=pairs, cmap='RdYlGn_r' \n",
                "                , mask = (pvalues >= 0.98)\n",
                "                )\n",
                "plt.show()\n",
                "print(selected_pairs)"
            ]
        },
        {
            "cell_type": "code",
            "execution_count": null,
            "metadata": {},
            "outputs": [],
            "source": [
                "S1 = crypto_df['CHZBTC']\n",
                "S2 = crypto_df['MANABTC']\n",
                "score, pvalue, _ = coint(S1, S2)\n",
                "print(pvalue)\n",
                "ratios = S1 / S2\n",
                "ratios.plot(figsize=(15,7))\n",
                "plt.axhline(ratios.mean())\n",
                "plt.legend(['Price Ratio'])\n",
                "plt.show()"
            ]
        },
        {
            "cell_type": "code",
            "execution_count": null,
            "metadata": {},
            "outputs": [],
            "source": [
                "def zscore(series):\n",
                "    return (series - series.mean()) / np.std(series)"
            ]
        },
        {
            "cell_type": "code",
            "execution_count": null,
            "metadata": {},
            "outputs": [],
            "source": [
                "zscore(ratios).plot(figsize=(15,7))\n",
                "plt.axhline(zscore(ratios).mean(), color='black')\n",
                "plt.axhline(1.0, color='red', linestyle='--')\n",
                "plt.axhline(-1.0, color='green', linestyle='--')\n",
                "plt.legend(['Ratio z-score', 'Mean', '+1', '-1'])\n",
                "plt.show()"
            ]
        }
    ],
    "metadata": {
        "interpreter": {
            "hash": "31f2aee4e71d21fbe5cf8b01ff0e069b9275f58929596ceb00d14d90e3e16cd6"
        },
        "kernelspec": {
            "display_name": "Python 3.8.10 64-bit",
            "name": "python3"
        },
        "language_info": {
            "codemirror_mode": {
                "name": "ipython",
                "version": 3
            },
            "file_extension": ".py",
            "mimetype": "text/x-python",
            "name": "python",
            "nbconvert_exporter": "python",
            "pygments_lexer": "ipython3",
            "version": "3.10.12"
        },
        "orig_nbformat": 4
    },
    "nbformat": 4,
    "nbformat_minor": 2
}
