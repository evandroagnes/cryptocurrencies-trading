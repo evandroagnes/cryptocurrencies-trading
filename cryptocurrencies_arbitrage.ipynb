{
 "cells": [
  {
   "cell_type": "code",
   "execution_count": null,
   "metadata": {},
   "outputs": [],
   "source": [
    "%load_ext autoreload\n",
    "%autoreload 2"
   ]
  },
  {
   "cell_type": "code",
   "execution_count": null,
   "metadata": {},
   "outputs": [],
   "source": [
    "# params\n",
    "test = False\n",
    "create_orders = False\n",
    "fee = 0.00075\n",
    "gain_threshold = 1.03\n",
    "coinmarketcap_threshold = 100\n",
    "arbitrage_asset = 'BTC'\n",
    "initial_arbitrage_balance = 0.01"
   ]
  },
  {
   "cell_type": "code",
   "execution_count": null,
   "metadata": {},
   "outputs": [],
   "source": [
    "from binance_utils import init, init_test, get_all_symbols, get_trunc_value, get_asset_balance, create_market_order\n",
    "from marketcap_utils import get_coinmarketcap_data\n",
    "import numpy as np\n",
    "import pandas as pd\n",
    "\n",
    "fee_factor = 1.0 - fee\n",
    "\n",
    "if test:\n",
    "    client = init_test()\n",
    "    fee_factor = 1.0\n",
    "else:\n",
    "    client = init()\n",
    "\n",
    "symbols_df = get_all_symbols(client)\n",
    "coinmarketcap_df = get_coinmarketcap_data(num_pages=5)\n",
    "symbols_df = symbols_df.join(coinmarketcap_df[['cmcRank']], on='baseAsset')\n",
    "symbols_df.dropna(inplace=True)\n",
    "symbols_df = symbols_df[symbols_df['cmcRank'] <= coinmarketcap_threshold]\n",
    "\n",
    "free_balance_arbitrage, _ = get_asset_balance(client, arbitrage_asset)\n",
    "if initial_arbitrage_balance > free_balance_arbitrage:\n",
    "    initial_arbitrage_balance = free_balance_arbitrage"
   ]
  },
  {
   "cell_type": "code",
   "execution_count": null,
   "metadata": {},
   "outputs": [],
   "source": [
    "info = client.get_account()\n",
    "assets_before_arbitrage_df = pd.DataFrame(info['balances'])"
   ]
  },
  {
   "cell_type": "code",
   "execution_count": null,
   "metadata": {},
   "outputs": [],
   "source": [
    "#to BUY: quantity of quote_asset.\n",
    "#to SELL: quantity of base_asset.\n",
    "def execute_arbitrage_orders(base_asset, quote_asset, side, qty):\n",
    "    print('Creating orders...')\n",
    "    symbol = [np.nan] * 3\n",
    "    free_balance = 0.0\n",
    "\n",
    "    symbol[0] = base_asset[0] + quote_asset[0]\n",
    "    order0 = create_market_order(client, symbol[0], side[0], qty)\n",
    "    print(order0)\n",
    "\n",
    "    symbol[1] = base_asset[1] + quote_asset[1]\n",
    "    if side[1] == 'SELL':\n",
    "        qty = float(order0['executedQty']) * fee_factor\n",
    "        free_balance, _ = get_asset_balance(client, base_asset[1])\n",
    "    elif side[1] == 'BUY':\n",
    "        qty = float(order0['cummulativeQuoteQty']) * fee_factor\n",
    "        free_balance, _ = get_asset_balance(client, quote_asset[1])\n",
    "    if qty > free_balance:\n",
    "        qty = free_balance\n",
    "    order1 = create_market_order(client, symbol[1], side[1], qty)\n",
    "    print(order1)\n",
    "\n",
    "    symbol[2] = base_asset[2] + quote_asset[2]\n",
    "    if side[2] == 'SELL':\n",
    "        qty = float(order1['executedQty']) * fee_factor\n",
    "        free_balance, _ = get_asset_balance(client, base_asset[2])\n",
    "    elif side[2] == 'BUY':\n",
    "        qty = float(order1['cummulativeQuoteQty']) * fee_factor\n",
    "        free_balance, _ = get_asset_balance(client, quote_asset[2])\n",
    "    if qty > free_balance:\n",
    "        qty = free_balance\n",
    "    order2 = create_market_order(client, symbol[2], side[2], qty)\n",
    "    print(order2)\n",
    "\n",
    "    order0_df = order_to_df(order0)\n",
    "    order1_df = order_to_df(order1)\n",
    "    order2_df = order_to_df(order2)\n",
    "\n",
    "    return pd.concat([order0_df, order1_df, order2_df]).set_index('symbol')"
   ]
  },
  {
   "cell_type": "code",
   "execution_count": null,
   "metadata": {},
   "outputs": [],
   "source": [
    "def calculate_arbitrage_gain(symbols, sides, prices_df, balance, fee):\n",
    "    prices = [np.nan] * 3\n",
    "    prices[0] = get_trunc_value(float(prices_df[prices_df.index == symbols[0]]['price'][0]), 0.00000001)\n",
    "    prices[1] = get_trunc_value(float(prices_df[prices_df.index == symbols[1]]['price'][0]), 0.00000001)\n",
    "    prices[2] = get_trunc_value(float(prices_df[prices_df.index == symbols[2]]['price'][0]), 0.00000001)\n",
    "\n",
    "    if sides[0] == 'BUY':\n",
    "        gain = balance / prices[0] * fee * prices[1] * fee / prices[2] * fee\n",
    "    else:\n",
    "        gain = balance * prices[0] * fee / prices[1] * fee * prices[2] * fee\n",
    "\n",
    "    return gain / balance, prices\n",
    "\n",
    "def get_arbitrage_gain(base_asset, quote_asset, end_quote_asset, prices_df, balance):\n",
    "    arbitrage_gains = {}\n",
    "\n",
    "    base_assets_sell = [quote_asset, base_asset, base_asset]\n",
    "    quote_assets_sell = [end_quote_asset, end_quote_asset, quote_asset]\n",
    "    symbols_sell = [base_assets_sell[0] + quote_assets_sell[0], base_assets_sell[1] + quote_assets_sell[1], base_assets_sell[2] + quote_assets_sell[2]]\n",
    "    sides_sell = ['SELL', 'BUY', 'SELL']\n",
    "    base_assets_buy = [base_asset, base_asset, quote_asset]\n",
    "    quote_assets_buy = [quote_asset, end_quote_asset, end_quote_asset]\n",
    "    symbols_buy = [base_assets_buy[0] + quote_assets_buy[0], base_assets_buy[1] + quote_assets_buy[1], base_assets_buy[2] + quote_assets_buy[2]]\n",
    "    sides_buy = ['BUY', 'SELL', 'BUY']\n",
    "\n",
    "    gain_sell, prices_sell = calculate_arbitrage_gain(symbols_sell, sides_sell, prices_df, balance, fee_factor)\n",
    "    gain_buy, prices_buy = calculate_arbitrage_gain(symbols_buy, sides_buy, prices_df, balance, fee_factor)\n",
    "\n",
    "    if gain_sell > gain_buy:\n",
    "        arbitrage_gains = {'base_assets': base_assets_sell, \n",
    "                           'quote_assets': quote_assets_sell,\n",
    "                           'sides': sides_sell, \n",
    "                           'prices': prices_sell,\n",
    "                           'gain': gain_sell}\n",
    "    else:\n",
    "        arbitrage_gains = {'base_assets': base_assets_buy, \n",
    "                           'quote_assets': quote_assets_buy, \n",
    "                           'sides': sides_buy, \n",
    "                           'prices': prices_buy,\n",
    "                           'gain': gain_buy}\n",
    "    \n",
    "    return arbitrage_gains\n"
   ]
  },
  {
   "cell_type": "code",
   "execution_count": null,
   "metadata": {},
   "outputs": [],
   "source": [
    "def order_to_df(order):\n",
    "    order_df = pd.DataFrame(order)[['symbol', 'orderId', 'transactTime', 'origQty', 'executedQty', 'cummulativeQuoteQty', 'status', 'type', 'side']]\n",
    "    order_df['transactTime']  = pd.to_datetime(order_df['transactTime'], unit='ms')\n",
    "    fills_df = pd.DataFrame(order['fills'])\n",
    "    order_df['price'] = fills_df['price']\n",
    "    order_df['qty'] = fills_df['qty']\n",
    "\n",
    "    return order_df"
   ]
  },
  {
   "cell_type": "code",
   "execution_count": null,
   "metadata": {},
   "outputs": [],
   "source": [
    "from binance_utils import get_all_lastest_price\n",
    "\n",
    "#end_quote_assets = set(symbols_df[symbols_df['baseAsset'] == arbitrage_asset]['quoteAsset'])\n",
    "#end_quote_assets = ['DAI', 'BUSD', 'GBP', 'AUD', 'BRL', 'USDT', 'EUR', 'USDC', 'RUB', 'UST', 'ETH', 'BTC']\n",
    "end_quote_assets = ['BRL', 'USDT', 'EUR', 'ETH']\n",
    "\n",
    "arbitrage_symbols = []\n",
    "orders_df = pd.DataFrame()\n",
    "arbitrage_opportunity_found = False\n",
    "while not arbitrage_opportunity_found:\n",
    "    #prices_df = get_all_lastest_price(client)\n",
    "    for index, row in symbols_df[symbols_df['quoteAsset'] == arbitrage_asset].iterrows():\n",
    "        prices_df = get_all_lastest_price(client)\n",
    "        for end_quote_asset in end_quote_assets:\n",
    "            # verify if all the pairs exist in symbols_df\n",
    "            if ((len(symbols_df[(symbols_df['baseAsset'] == row['baseAsset']) & (symbols_df['quoteAsset'] == end_quote_asset)]) > 0) & \n",
    "                    (len(symbols_df[(symbols_df['baseAsset'] == row['quoteAsset']) & (symbols_df['quoteAsset'] == end_quote_asset)]) > 0)):\n",
    "                arbitrage_gains = get_arbitrage_gain(row['baseAsset'], \n",
    "                                                row['quoteAsset'], \n",
    "                                                end_quote_asset, \n",
    "                                                prices_df, \n",
    "                                                initial_arbitrage_balance)\n",
    "\n",
    "                if (arbitrage_gains['gain'] > gain_threshold and not arbitrage_opportunity_found):\n",
    "                    arbitrage_symbols.append((arbitrage_gains['base_assets'],\n",
    "                                              arbitrage_gains['quote_assets'],\n",
    "                                              arbitrage_gains['sides'],\n",
    "                                              arbitrage_gains['gain'], \n",
    "                                              row['cmcRank'],\n",
    "                                              '{:0.8f}'.format(arbitrage_gains['prices'][0]), \n",
    "                                              '{:0.8f}'.format(arbitrage_gains['prices'][1]), \n",
    "                                              '{:0.8f}'.format(arbitrage_gains['prices'][2])))\n",
    "                    \n",
    "                    if (create_orders):\n",
    "                        orders_df = execute_arbitrage_orders(arbitrage_gains['base_assets'],\n",
    "                                                             arbitrage_gains['quote_assets'], \n",
    "                                                             arbitrage_gains['sides'], \n",
    "                                                             initial_arbitrage_balance)\n",
    "                        #print(orders_df)\n",
    "\n",
    "                    arbitrage_opportunity_found = True\n",
    "                ###\n",
    "                #print(arbitrage_gains)\n",
    "\n",
    "    \n",
    "    # to not to repeat the while loop uncomment next line\n",
    "    #arbitrage_opportunity_found = True\n",
    "\n",
    "arbitrage_symbols = pd.DataFrame(arbitrage_symbols, columns=['base_assets', 'quote_assets', 'sides', 'gain', 'cmc_rank', 'price0', 'price1', 'price2'])\n",
    "arbitrage_symbols = arbitrage_symbols.sort_values(by='gain', ascending=False)"
   ]
  },
  {
   "cell_type": "code",
   "execution_count": null,
   "metadata": {},
   "outputs": [],
   "source": [
    "arbitrage_symbols"
   ]
  },
  {
   "cell_type": "code",
   "execution_count": null,
   "metadata": {},
   "outputs": [],
   "source": [
    "assets = [base_asset for base_assets in arbitrage_symbols['base_assets'] + arbitrage_symbols['quote_assets'] for base_asset in base_assets]\n",
    "assets = set(assets)"
   ]
  },
  {
   "cell_type": "code",
   "execution_count": null,
   "metadata": {},
   "outputs": [],
   "source": [
    "info = client.get_account()\n",
    "assets_after_arbitrage_df = pd.DataFrame(info['balances'])"
   ]
  },
  {
   "cell_type": "code",
   "execution_count": null,
   "metadata": {},
   "outputs": [],
   "source": [
    "assets_before_arbitrage_df[assets_before_arbitrage_df['asset'].isin(assets)]"
   ]
  },
  {
   "cell_type": "code",
   "execution_count": null,
   "metadata": {},
   "outputs": [],
   "source": [
    "assets_after_arbitrage_df[assets_after_arbitrage_df['asset'].isin(assets)]"
   ]
  },
  {
   "cell_type": "code",
   "execution_count": null,
   "metadata": {},
   "outputs": [],
   "source": [
    "orders_df"
   ]
  }
 ],
 "metadata": {
  "interpreter": {
   "hash": "bd68a82b279477891a073de5f4c1f7ccc3e7bb19aaa18e5617a6e5ec99b1b0b0"
  },
  "kernelspec": {
   "display_name": "Python 3.8.10 64-bit ('.venv': venv)",
   "language": "python",
   "name": "python3"
  },
  "language_info": {
   "codemirror_mode": {
    "name": "ipython",
    "version": 3
   },
   "file_extension": ".py",
   "mimetype": "text/x-python",
   "name": "python",
   "nbconvert_exporter": "python",
   "pygments_lexer": "ipython3",
   "version": "3.8.10"
  },
  "orig_nbformat": 4
 },
 "nbformat": 4,
 "nbformat_minor": 2
}
