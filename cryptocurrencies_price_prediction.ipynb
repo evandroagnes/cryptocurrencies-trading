{
    "cells": [
        {
            "cell_type": "markdown",
            "metadata": {},
            "source": [
                "# References\n",
                "\n",
                "https://www.kaggle.com/humamfauzi/btc-price-prediction-using-lstm\n",
                "\n",
                "https://machinelearningmastery.com/how-to-develop-lstm-models-for-time-series-forecasting/\n",
                "\n",
                "https://www.analyticsvidhya.com/blog/2021/05/bitcoin-price-prediction-using-recurrent-neural-networks-and-lstm/"
            ]
        },
        {
            "cell_type": "code",
            "execution_count": null,
            "metadata": {},
            "outputs": [],
            "source": [
                "%load_ext autoreload\n",
                "%autoreload 2"
            ]
        },
        {
            "cell_type": "code",
            "execution_count": null,
            "metadata": {},
            "outputs": [],
            "source": [
                "import tensorflow as tf\n",
                "tf.config.list_logical_devices('GPU')"
            ]
        },
        {
            "cell_type": "code",
            "execution_count": null,
            "metadata": {},
            "outputs": [],
            "source": [
                "import numpy as np\n",
                "import matplotlib.pyplot as plt\n",
                "import pandas as pd\n",
                "from sklearn.preprocessing import MinMaxScaler\n",
                "from sklearn.model_selection import train_test_split\n",
                "from sklearn.metrics import mean_squared_error, mean_absolute_error\n",
                "\n",
                "from tensorflow.keras import datasets, layers, models\n",
                "from tensorflow.keras import Sequential\n",
                "from tensorflow.keras.layers import LSTM, Dense, Dropout, Activation"
            ]
        },
        {
            "cell_type": "code",
            "execution_count": null,
            "metadata": {},
            "outputs": [],
            "source": [
                "# Change...\n",
                "pair = 'BTCUSDT'\n",
                "\n",
                "# interval used to compute indicators and backtest analysis\n",
                "# valid intervals - 1min, 3min, 5min, 15min, 30min, 1H, 2H, 4H, 6H, 8H, 12H, 1D, 3D, 1W, 1M\n",
                "interval = '1H'"
            ]
        },
        {
            "cell_type": "code",
            "execution_count": null,
            "metadata": {},
            "outputs": [],
            "source": [
                "from binance_utils import init\n",
                "from trade_utils import get_data\n",
                "\n",
                "client = init()\n",
                "data = get_data(client, pair, interval)"
            ]
        },
        {
            "cell_type": "code",
            "execution_count": null,
            "metadata": {},
            "outputs": [],
            "source": [
                "# Last column must be the target\n",
                "COLUMNS = ['ClosePrice']\n",
                "N_STEPS = 30\n",
                "N_FEATURES = len(COLUMNS)\n",
                "\n",
                "data = data[COLUMNS].copy()"
            ]
        },
        {
            "cell_type": "code",
            "execution_count": null,
            "metadata": {},
            "outputs": [],
            "source": [
                "from machine_learning_utils import split_sequence\n",
                "\n",
                "sc = MinMaxScaler()\n",
                "data_scaled = sc.fit_transform(data)"
            ]
        },
        {
            "cell_type": "code",
            "execution_count": null,
            "metadata": {},
            "outputs": [],
            "source": [
                "#close_price = np.array(data['ClosePrice']).reshape(-1,1)\n",
                "#close_price = np.array(data.iloc[:,-1]).reshape(-1,1)\n",
                "#close_price"
            ]
        },
        {
            "cell_type": "code",
            "execution_count": null,
            "metadata": {},
            "outputs": [],
            "source": [
                "close_price = np.array(data['ClosePrice']).reshape(-1,1)\n",
                "plt.figure(figsize=(14,6))\n",
                "plt.title(\"Bitcoin Closing Price\")\n",
                "plt.grid()\n",
                "plt.plot(close_price)\n",
                "\n",
                "# Last column from data_scaled\n",
                "close_price_scaled = data_scaled[:,-1]\n",
                "plt.figure(figsize=(14,6))\n",
                "plt.title(\"Scaled\")\n",
                "plt.grid()\n",
                "plt.plot(close_price_scaled)"
            ]
        },
        {
            "cell_type": "code",
            "execution_count": null,
            "metadata": {},
            "outputs": [],
            "source": [
                "from machine_learning_utils import split_sequence\n",
                "\n",
                "X, y = split_sequence(data_scaled, N_STEPS)\n",
                "print(X.shape, y.shape)"
            ]
        },
        {
            "cell_type": "code",
            "execution_count": null,
            "metadata": {},
            "outputs": [],
            "source": [
                "# Obtain the features and target for the 'train_data' and 'test_data' without shuffling\n",
                "# shuffle is not correct to use in time-series analysis because the order of the data is mandatory\n",
                "X_train, X_test, y_train, y_test = train_test_split(\n",
                "    X, y, train_size=0.80, shuffle=False)"
            ]
        },
        {
            "cell_type": "code",
            "execution_count": null,
            "metadata": {},
            "outputs": [],
            "source": [
                "plt.figure(figsize=(14,4))\n",
                "plt.plot(range(len(y_train)), y_train)\n",
                "plt.plot(range(len(y_train), len(y)), y_test)\n",
                "plt.legend([\"Training\", \"Test\"])\n",
                "plt.grid()"
            ]
        },
        {
            "cell_type": "markdown",
            "metadata": {},
            "source": [
                "## Prepare X for LSTM"
            ]
        },
        {
            "cell_type": "code",
            "execution_count": null,
            "metadata": {},
            "outputs": [],
            "source": [
                "# reshape from [samples, timesteps] into [samples, timesteps, features]\n",
                "#X_train = X_train.reshape((X_train.shape[0], X_train.shape[1], N_FEATURES))\n",
                "#X_test = X_test.reshape((X_test.shape[0], X_test.shape[1], N_FEATURES))"
            ]
        },
        {
            "cell_type": "code",
            "execution_count": null,
            "metadata": {},
            "outputs": [],
            "source": [
                "%%time\n",
                "# define model\n",
                "model = Sequential()\n",
                "\n",
                "# LSTM layer 1\n",
                "model.add(LSTM(units = 50, return_sequences=True, input_shape=(N_STEPS, N_FEATURES)))\n",
                "model.add(Dropout(0.2))\n",
                "\n",
                "# Intermediate LSTM layer\n",
                "model.add(LSTM(units = 50, return_sequences=True))\n",
                "model.add(Dropout(0.2))\n",
                "\n",
                "# LSTM layer\n",
                "model.add(LSTM(units = 50))\n",
                "model.add(Dropout(0.2))\n",
                "\n",
                "# Fully connected layer\n",
                "model.add(Dense(units = 1))\n",
                "\n",
                "print(model.summary())\n",
                "\n",
                "# Compiling the RNN\n",
                "model.compile(optimizer = 'adam', loss = 'mean_squared_error')\n",
                "\n",
                "# Fitting to the training set\n",
                "history = model.fit(X_train, y_train, epochs=50, batch_size=168, validation_data=(X_test, y_test))\n",
                "\n",
                "# plot history\n",
                "plt.plot(history.history['loss'], label='train')\n",
                "plt.plot(history.history['val_loss'], label='test')\n",
                "plt.legend()\n",
                "plt.show()"
            ]
        },
        {
            "cell_type": "code",
            "execution_count": null,
            "metadata": {},
            "outputs": [],
            "source": [
                "y_pred = model.predict(X_test)\n",
                "MSE = mean_squared_error(y_test, y_pred)"
            ]
        },
        {
            "cell_type": "code",
            "execution_count": null,
            "metadata": {},
            "outputs": [],
            "source": [
                "# scale used in last column (target)\n",
                "scale_target = sc.scale_[-1]\n",
                "\n",
                "plt.figure(figsize=(14,6))\n",
                "plt.plot(y_test * scale_target)\n",
                "plt.plot(y_pred * scale_target)\n",
                "plt.title(\"Comparison with MSE {0:0.10f}\".format(MSE))\n",
                "plt.legend([\"Y\", \"Prediction\"])\n",
                "plt.xlabel(\"Timeframe\")\n",
                "plt.ylabel(\"Price\")"
            ]
        }
    ],
    "metadata": {
        "interpreter": {
            "hash": "fee5df06d540e54136063e6ec9e179ab6e8cf508b55032dc2d1c01943f02d951"
        },
        "kernelspec": {
            "display_name": "Python 3.8.10 64-bit ('.venv': venv)",
            "name": "python3"
        },
        "language_info": {
            "codemirror_mode": {
                "name": "ipython",
                "version": 3
            },
            "file_extension": ".py",
            "mimetype": "text/x-python",
            "name": "python",
            "nbconvert_exporter": "python",
            "pygments_lexer": "ipython3",
            "version": "3.8.10"
        },
        "orig_nbformat": 4
    },
    "nbformat": 4,
    "nbformat_minor": 2
}
